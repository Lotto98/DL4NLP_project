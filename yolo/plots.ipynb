{
 "cells": [
  {
   "cell_type": "code",
   "execution_count": 126,
   "metadata": {},
   "outputs": [],
   "source": [
    "import matplotlib.pyplot as plt\n",
    "import json\n",
    "import os\n",
    "import pandas as pd\n",
    "\n",
    "import scienceplots\n",
    "\n",
    "plt.style.use('science')"
   ]
  },
  {
   "cell_type": "code",
   "execution_count": 127,
   "metadata": {},
   "outputs": [
    {
     "data": {
      "text/html": [
       "<div>\n",
       "<style scoped>\n",
       "    .dataframe tbody tr th:only-of-type {\n",
       "        vertical-align: middle;\n",
       "    }\n",
       "\n",
       "    .dataframe tbody tr th {\n",
       "        vertical-align: top;\n",
       "    }\n",
       "\n",
       "    .dataframe thead th {\n",
       "        text-align: right;\n",
       "    }\n",
       "</style>\n",
       "<table border=\"1\" class=\"dataframe\">\n",
       "  <thead>\n",
       "    <tr style=\"text-align: right;\">\n",
       "      <th></th>\n",
       "      <th>F1</th>\n",
       "    </tr>\n",
       "    <tr>\n",
       "      <th>model</th>\n",
       "      <th></th>\n",
       "    </tr>\n",
       "  </thead>\n",
       "  <tbody>\n",
       "    <tr>\n",
       "      <th>nano 640</th>\n",
       "      <td>0.693934</td>\n",
       "    </tr>\n",
       "    <tr>\n",
       "      <th>medium 640</th>\n",
       "      <td>0.695106</td>\n",
       "    </tr>\n",
       "    <tr>\n",
       "      <th>nano 1216</th>\n",
       "      <td>0.751027</td>\n",
       "    </tr>\n",
       "  </tbody>\n",
       "</table>\n",
       "</div>"
      ],
      "text/plain": [
       "                  F1\n",
       "model               \n",
       "nano 640    0.693934\n",
       "medium 640  0.695106\n",
       "nano 1216   0.751027"
      ]
     },
     "execution_count": 127,
     "metadata": {},
     "output_type": "execute_result"
    }
   ],
   "source": [
    "def load_F1_scores():\n",
    "    \n",
    "    tests = []\n",
    "    \n",
    "    for file in os.listdir('../tests'):\n",
    "        with open('../tests/' + file) as f:\n",
    "            f1 = pd.read_csv(f)\n",
    "            \n",
    "            _, model, img = file.split('_')\n",
    "            \n",
    "            f1[\"model\"]=model+' '+img.removesuffix('.csv')\n",
    "            \n",
    "            f1.set_index(\"model\", inplace=True)\n",
    "            \n",
    "            tests.append(f1)\n",
    "    \n",
    "    return pd.concat(tests)\n",
    "\n",
    "load_F1_scores()"
   ]
  },
  {
   "cell_type": "code",
   "execution_count": 128,
   "metadata": {},
   "outputs": [
    {
     "data": {
      "text/html": [
       "<div>\n",
       "<style scoped>\n",
       "    .dataframe tbody tr th:only-of-type {\n",
       "        vertical-align: middle;\n",
       "    }\n",
       "\n",
       "    .dataframe tbody tr th {\n",
       "        vertical-align: top;\n",
       "    }\n",
       "\n",
       "    .dataframe thead th {\n",
       "        text-align: right;\n",
       "    }\n",
       "</style>\n",
       "<table border=\"1\" class=\"dataframe\">\n",
       "  <thead>\n",
       "    <tr style=\"text-align: right;\">\n",
       "      <th></th>\n",
       "      <th>WER</th>\n",
       "      <th>CER</th>\n",
       "      <th>Time_no_yolo</th>\n",
       "      <th>Time_yolo</th>\n",
       "      <th>Seconds_feed</th>\n",
       "    </tr>\n",
       "    <tr>\n",
       "      <th>name</th>\n",
       "      <th></th>\n",
       "      <th></th>\n",
       "      <th></th>\n",
       "      <th></th>\n",
       "      <th></th>\n",
       "    </tr>\n",
       "  </thead>\n",
       "  <tbody>\n",
       "    <tr>\n",
       "      <th>nano 640</th>\n",
       "      <td>0.358513</td>\n",
       "      <td>0.303496</td>\n",
       "      <td>188.754934</td>\n",
       "      <td>159.638115</td>\n",
       "      <td>31335.556625</td>\n",
       "    </tr>\n",
       "    <tr>\n",
       "      <th>medium 640</th>\n",
       "      <td>0.325889</td>\n",
       "      <td>0.282741</td>\n",
       "      <td>188.754934</td>\n",
       "      <td>188.441415</td>\n",
       "      <td>31491.391250</td>\n",
       "    </tr>\n",
       "    <tr>\n",
       "      <th>nano 1216</th>\n",
       "      <td>0.250291</td>\n",
       "      <td>0.209119</td>\n",
       "      <td>188.754934</td>\n",
       "      <td>167.606453</td>\n",
       "      <td>29537.840938</td>\n",
       "    </tr>\n",
       "  </tbody>\n",
       "</table>\n",
       "</div>"
      ],
      "text/plain": [
       "                 WER       CER  Time_no_yolo   Time_yolo  Seconds_feed\n",
       "name                                                                  \n",
       "nano 640    0.358513  0.303496    188.754934  159.638115  31335.556625\n",
       "medium 640  0.325889  0.282741    188.754934  188.441415  31491.391250\n",
       "nano 1216   0.250291  0.209119    188.754934  167.606453  29537.840938"
      ]
     },
     "execution_count": 128,
     "metadata": {},
     "output_type": "execute_result"
    }
   ],
   "source": [
    "def load_all_json_experiments():\n",
    "    # Load all json files in the experiments directory which name starts with 'experiment'\n",
    "    experiments = []\n",
    "    for file in os.listdir('../experiments'):\n",
    "        if file.startswith('experiment'):\n",
    "            with open('../experiments/' + file) as f:\n",
    "                experiments.append(json.load(f))\n",
    "\n",
    "    experiments = pd.DataFrame(experiments)\n",
    "    experiments[\"name\"]=experiments.apply(lambda x: x[\"model\"]+\" \"+str(x[\"image_size\"]), axis=1)\n",
    "    experiments.drop(columns=[\"model\", \"image_size\"], inplace=True)\n",
    "    experiments.set_index(\"name\", inplace=True)\n",
    "    \n",
    "    return experiments\n",
    "\n",
    "experiments=load_all_json_experiments()\n",
    "experiments"
   ]
  },
  {
   "cell_type": "code",
   "execution_count": 129,
   "metadata": {},
   "outputs": [],
   "source": [
    "def bar_plot(Series:pd.Series, title:str, xlabel:str, ylabel:str, line_value=None):\n",
    "    \n",
    "    values = Series.values\n",
    "    labels = Series.index\n",
    "    \n",
    "    fig=plt.figure(figsize=(4, 5))\n",
    "    \n",
    "    # Create a bar graph\n",
    "    plt.bar(labels, values, width=0.5)\n",
    "    #plt.xticks(labels, rotation=45, ha=\"right\")\n",
    "\n",
    "    # Add a title and labels\n",
    "    plt.title(title)\n",
    "    plt.xlabel(xlabel)\n",
    "    plt.ylabel(ylabel)\n",
    "    \n",
    "    if line_value:\n",
    "        # Add a horizontal line\n",
    "        plt.axhline(y=line_value, color='r', linestyle='--')\n",
    "\n",
    "    # Show the graph\n",
    "    fig.tight_layout()\n",
    "    \n",
    "    os.makedirs('../plots', exist_ok=True)\n",
    "    plt.savefig(f'../plots/{title}.png')\n",
    "    plt.show()"
   ]
  },
  {
   "cell_type": "code",
   "execution_count": 130,
   "metadata": {},
   "outputs": [
    {
     "data": {
      "image/png": "[encoded data removed]",
      "text/plain": [
       "<Figure size 400x500 with 1 Axes>"
      ]
     },
     "metadata": {},
     "output_type": "display_data"
    }
   ],
   "source": [
    "bar_plot(experiments[\"Seconds_feed\"], \"Seconds of audio feed to yolo per experiment\", \"Experiment\", \"Seconds\", 34620)"
   ]
  },
  {
   "cell_type": "code",
   "execution_count": 131,
   "metadata": {},
   "outputs": [
    {
     "data": {
      "image/png": "[encoded data removed]",
      "text/plain": [
       "<Figure size 400x500 with 1 Axes>"
      ]
     },
     "metadata": {},
     "output_type": "display_data"
    }
   ],
   "source": [
    "bar_plot(experiments[\"Time_yolo\"], \"Execution time (s) per experiment\", \"Experiment\", \"Seconds\", line_value=experiments[\"Time_no_yolo\"].mean())"
   ]
  },
  {
   "cell_type": "code",
   "execution_count": 132,
   "metadata": {},
   "outputs": [
    {
     "data": {
      "image/png": "[encoded data removed]",
      "text/plain": [
       "<Figure size 400x500 with 1 Axes>"
      ]
     },
     "metadata": {},
     "output_type": "display_data"
    }
   ],
   "source": [
    "bar_plot(experiments[\"CER\"], \"Character error rate (CER) per experiment\", \"Experiment\", \"CER\")"
   ]
  },
  {
   "cell_type": "code",
   "execution_count": 133,
   "metadata": {},
   "outputs": [
    {
     "data": {
      "image/png": "[encoded data removed]",
      "text/plain": [
       "<Figure size 400x500 with 1 Axes>"
      ]
     },
     "metadata": {},
     "output_type": "display_data"
    }
   ],
   "source": [
    "bar_plot(experiments[\"WER\"], \"Word error rate (WER) per experiment\", \"Experiment\", \"WER\")"
   ]
  }
 ],
 "metadata": {
  "kernelspec": {
   "display_name": "DL4NLP_yolo",
   "language": "python",
   "name": "python3"
  },
  "language_info": {
   "codemirror_mode": {
    "name": "ipython",
    "version": 3
   },
   "file_extension": ".py",
   "mimetype": "text/x-python",
   "name": "python",
   "nbconvert_exporter": "python",
   "pygments_lexer": "ipython3",
   "version": "3.9.21"
  }
 },
 "nbformat": 4,
 "nbformat_minor": 2
}
